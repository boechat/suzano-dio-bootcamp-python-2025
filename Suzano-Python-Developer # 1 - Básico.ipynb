{
 "cells": [
  {
   "cell_type": "code",
   "execution_count": 1,
   "id": "c4f9ab1b",
   "metadata": {},
   "outputs": [
    {
     "name": "stdout",
     "output_type": "stream",
     "text": [
      "Olá Mundo!\n",
      "21\n",
      "32\n",
      "True\n",
      "4.5\n"
     ]
    },
    {
     "data": {
      "text/plain": [
       "'1'"
      ]
     },
     "execution_count": 1,
     "metadata": {},
     "output_type": "execute_result"
    }
   ],
   "source": [
    "print(f'Olá Mundo!')\n",
    "\n",
    "## CONHECENDO A LINGUAGEM\n",
    "# O QUE SAO TIPOS\n",
    "\n",
    "# DEFINEM CARACTERISTICAS E COMPORTAMENTOS DE UM VALOR (OBJETO)\n",
    "\n",
    "print(11+10)\n",
    "print(21+int('11'))\n",
    "print(True)\n",
    "print(1.5 + 3)\n",
    "\n",
    "str(1)\n"
   ]
  },
  {
   "cell_type": "code",
   "execution_count": 2,
   "id": "a805e020",
   "metadata": {},
   "outputs": [],
   "source": [
    "\n",
    "## MODO INTERATIVO \n",
    "# Existem duas formas de iniciar o modo interativo:\n",
    "# chamando o interpretador (python)\n",
    "# ou\n",
    "# executando o scrit com a flag -i (python -i nomedoprograma.py)\n",
    "\n",
    "## Função DIR e HELP\n",
    "\n",
    "# DIR - retorna a lista de nomes no escopo local atual; \n",
    "# com argumento, retorna uma lista de atributos válidos para o objeto\n",
    "\n",
    "# HELP - invoca sistema de ajuda integrado\n",
    "# com argumento, informa o modulo, função, classe da variavel\n",
    "\n",
    "### LINKS UTEIS - https://github.com/guicarvalho/trilha-python-dio\n",
    "### REFERENCIAS - https://wiki.pthon.org.br/ModoInterativo\n"
   ]
  },
  {
   "cell_type": "code",
   "execution_count": 3,
   "id": "6e10560f",
   "metadata": {},
   "outputs": [
    {
     "name": "stdout",
     "output_type": "stream",
     "text": [
      "Meu nome Sidnei e tenho 72 ano(s)de idade\n",
      "Meu nome é Robson e tenho 25 anos!\n",
      "['SP', 'RJ', 'MG']\n"
     ]
    }
   ],
   "source": [
    "\n",
    "####### VARIAVEIS E CONSTANTES\n",
    "# Variavel = valores que podem sofrer alterações\n",
    "# Constantes = valores 'fixos' \n",
    "\n",
    "age, name = (72,'Sidnei')\n",
    "print(f'Meu nome {name} e tenho {age} ano(s)de idade')\n",
    "\n",
    "# alternativamente:\n",
    "age = 25\n",
    "name = 'Robson'\n",
    "print(f'Meu nome é {name} e tenho {age} anos!')\n",
    "\n",
    "## Python NÃO tem constantes; não existe uma palavra reservada pra informar que é uma constante como final (java) e const (C).\n",
    "## Em Python, usa-se uma convenção com a variavel om o Nome Todo em Letras Maiusculas\n",
    "\n",
    "CAMINHO_URL = 'https://x.com/home'\n",
    "DEBUG = True\n",
    "STATES = [\n",
    "    'SP',\n",
    "    'RJ',\n",
    "    'MG',\n",
    "]\n",
    "AMOUNT = 30.2\n",
    "\n",
    "### BOAS PRÁTICAS\n",
    "# Padrão de nomes deve ser snake_case ; escolher nomes sugestivos; nome de consntates todo em maiusculo\n",
    "# snake_case = nome_da_variavel\n",
    "\n",
    "print(STATES)"
   ]
  },
  {
   "cell_type": "code",
   "execution_count": 4,
   "id": "75a46470",
   "metadata": {},
   "outputs": [
    {
     "name": "stdout",
     "output_type": "stream",
     "text": [
      "esse é int  3\n",
      "esse é float  3.0\n",
      "1.5\n"
     ]
    }
   ],
   "source": [
    "\n",
    "### CONVERTENDO TIPOS\n",
    "# Preciso para quando for fazer operações por exemplo\n",
    "\n",
    "preco = 3\n",
    "print('esse é int ',preco)\n",
    "print('esse é float ',float(preco))\n",
    "preconovo = preco/2\n",
    "print(preconovo)\n"
   ]
  },
  {
   "cell_type": "code",
   "execution_count": 5,
   "id": "c9453d85",
   "metadata": {},
   "outputs": [
    {
     "name": "stdout",
     "output_type": "stream",
     "text": [
      "3 25\n"
     ]
    }
   ],
   "source": [
    "\n",
    "# Pra concatenar, precisa ser do mesmo tipo; exemplo:\n",
    "\n",
    "texto = f'{str(preco)} {str(age)}'\n",
    "# no caso, transformei preco e age em str\n",
    "print(texto)\n"
   ]
  },
  {
   "cell_type": "code",
   "execution_count": 6,
   "id": "13057227",
   "metadata": {},
   "outputs": [
    {
     "name": "stdout",
     "output_type": "stream",
     "text": [
      "Teste Testonildon\n",
      "Teste Testonildon.... poxa \n",
      "Teste#####Testonildon\n"
     ]
    }
   ],
   "source": [
    "\n",
    "### FUNCOES DE ENTRADA (INPUT) E SAIDA (OUTPUT)\n",
    "# input - lê dados da entrada padrão teclado na saida padrão tela.\n",
    "\n",
    "#nome = input('digita ai!')\n",
    "\n",
    "# output - print; recebe 4 argumentos opcionais (SEP , END, FILE e FLUSH)\n",
    "\n",
    "nome = 'Teste'\n",
    "sobrenome = 'Testonildon'\n",
    "\n",
    "print(nome,sobrenome)\n",
    "print(nome,sobrenome, end='.... poxa \\n')\n",
    "print(nome,sobrenome,sep=\"#####\")\n",
    "\n",
    "## LINKS UTEIS:  \n",
    "# https://docs.python.org/3/library/function.html#input\n",
    "# https://docs.python.org/3/library/function.html#print"
   ]
  },
  {
   "cell_type": "code",
   "execution_count": null,
   "id": "8371fc9a",
   "metadata": {},
   "outputs": [],
   "source": []
  }
 ],
 "metadata": {
  "kernelspec": {
   "display_name": "Python 3 (ipykernel)",
   "language": "python",
   "name": "python3"
  },
  "language_info": {
   "codemirror_mode": {
    "name": "ipython",
    "version": 3
   },
   "file_extension": ".py",
   "mimetype": "text/x-python",
   "name": "python",
   "nbconvert_exporter": "python",
   "pygments_lexer": "ipython3",
   "version": "3.9.13"
  }
 },
 "nbformat": 4,
 "nbformat_minor": 5
}
